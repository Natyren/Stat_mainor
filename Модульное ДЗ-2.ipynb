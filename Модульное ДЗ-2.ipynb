{
 "cells": [
  {
   "cell_type": "markdown",
   "metadata": {},
   "source": [
    "# Домашнее задание №2\n",
    "## Бредис Георгий"
   ]
  },
  {
   "cell_type": "code",
   "execution_count": 2,
   "metadata": {},
   "outputs": [],
   "source": [
    "import pandas as pd\n",
    "import numpy as np\n",
    "\n",
    "from sklearn.linear_model import LinearRegression\n",
    "import matplotlib.pyplot as plt\n",
    "\n",
    "from sklearn.metrics import mean_squared_error as mse\n",
    "from sklearn.metrics import r2_score as r2"
   ]
  },
  {
   "cell_type": "markdown",
   "metadata": {},
   "source": [
    "## Задание 1."
   ]
  },
  {
   "cell_type": "code",
   "execution_count": 3,
   "metadata": {},
   "outputs": [],
   "source": [
    "def true_pred_plot(trues, preds):\n",
    "    plt.scatter(np.arange(19), trues, label='True')\n",
    "    plt.scatter(np.arange(19), preds, label='Predicted')\n",
    "    plt.legend(bbox_to_anchor=(0., 1.02, 1., .102), loc='lower left',\n",
    "           ncol=2, mode=\"expand\", borderaxespad=0.)\n",
    "    plt.show()"
   ]
  },
  {
   "cell_type": "code",
   "execution_count": 4,
   "metadata": {},
   "outputs": [],
   "source": [
    "data = pd.read_csv('задание1.xls', sep=r'\\s+')"
   ]
  },
  {
   "cell_type": "code",
   "execution_count": 5,
   "metadata": {},
   "outputs": [],
   "source": [
    "for i in range(len(data)):\n",
    "    data.loc[i] = data.t.loc[i].split()\n",
    "data = data.set_index('t')\n",
    "data = data.apply(lambda x: x.apply(lambda x: x.replace(',','.')))\n",
    "data = data.astype(float)"
   ]
  },
  {
   "cell_type": "code",
   "execution_count": 6,
   "metadata": {},
   "outputs": [
    {
     "data": {
      "text/html": [
       "<div>\n",
       "<style scoped>\n",
       "    .dataframe tbody tr th:only-of-type {\n",
       "        vertical-align: middle;\n",
       "    }\n",
       "\n",
       "    .dataframe tbody tr th {\n",
       "        vertical-align: top;\n",
       "    }\n",
       "\n",
       "    .dataframe thead th {\n",
       "        text-align: right;\n",
       "    }\n",
       "</style>\n",
       "<table border=\"1\" class=\"dataframe\">\n",
       "  <thead>\n",
       "    <tr style=\"text-align: right;\">\n",
       "      <th></th>\n",
       "      <th>Y</th>\n",
       "      <th>X1</th>\n",
       "      <th>X2</th>\n",
       "      <th>X3</th>\n",
       "      <th>X4</th>\n",
       "    </tr>\n",
       "    <tr>\n",
       "      <th>t</th>\n",
       "      <th></th>\n",
       "      <th></th>\n",
       "      <th></th>\n",
       "      <th></th>\n",
       "      <th></th>\n",
       "    </tr>\n",
       "  </thead>\n",
       "  <tbody>\n",
       "    <tr>\n",
       "      <th>1</th>\n",
       "      <td>31.2</td>\n",
       "      <td>492.9</td>\n",
       "      <td>37.3</td>\n",
       "      <td>54.7</td>\n",
       "      <td>77.4</td>\n",
       "    </tr>\n",
       "    <tr>\n",
       "      <th>2</th>\n",
       "      <td>33.3</td>\n",
       "      <td>528.6</td>\n",
       "      <td>38.1</td>\n",
       "      <td>63.7</td>\n",
       "      <td>80.2</td>\n",
       "    </tr>\n",
       "    <tr>\n",
       "      <th>3</th>\n",
       "      <td>35.6</td>\n",
       "      <td>560.3</td>\n",
       "      <td>39.3</td>\n",
       "      <td>69.8</td>\n",
       "      <td>80.4</td>\n",
       "    </tr>\n",
       "    <tr>\n",
       "      <th>4</th>\n",
       "      <td>36.4</td>\n",
       "      <td>624.6</td>\n",
       "      <td>37.8</td>\n",
       "      <td>65.9</td>\n",
       "      <td>83.9</td>\n",
       "    </tr>\n",
       "    <tr>\n",
       "      <th>5</th>\n",
       "      <td>36.7</td>\n",
       "      <td>666.4</td>\n",
       "      <td>38.4</td>\n",
       "      <td>64.5</td>\n",
       "      <td>85.5</td>\n",
       "    </tr>\n",
       "    <tr>\n",
       "      <th>6</th>\n",
       "      <td>38.4</td>\n",
       "      <td>717.8</td>\n",
       "      <td>40.1</td>\n",
       "      <td>70.0</td>\n",
       "      <td>93.7</td>\n",
       "    </tr>\n",
       "    <tr>\n",
       "      <th>7</th>\n",
       "      <td>40.4</td>\n",
       "      <td>768.2</td>\n",
       "      <td>38.6</td>\n",
       "      <td>73.2</td>\n",
       "      <td>106.1</td>\n",
       "    </tr>\n",
       "    <tr>\n",
       "      <th>8</th>\n",
       "      <td>40.3</td>\n",
       "      <td>843.3</td>\n",
       "      <td>39.8</td>\n",
       "      <td>67.8</td>\n",
       "      <td>104.8</td>\n",
       "    </tr>\n",
       "    <tr>\n",
       "      <th>9</th>\n",
       "      <td>41.8</td>\n",
       "      <td>911.6</td>\n",
       "      <td>39.7</td>\n",
       "      <td>79.1</td>\n",
       "      <td>114.0</td>\n",
       "    </tr>\n",
       "    <tr>\n",
       "      <th>10</th>\n",
       "      <td>40.4</td>\n",
       "      <td>931.1</td>\n",
       "      <td>52.1</td>\n",
       "      <td>95.4</td>\n",
       "      <td>124.1</td>\n",
       "    </tr>\n",
       "    <tr>\n",
       "      <th>11</th>\n",
       "      <td>40.7</td>\n",
       "      <td>1021.5</td>\n",
       "      <td>48.9</td>\n",
       "      <td>94.2</td>\n",
       "      <td>127.6</td>\n",
       "    </tr>\n",
       "    <tr>\n",
       "      <th>12</th>\n",
       "      <td>40.1</td>\n",
       "      <td>1165.9</td>\n",
       "      <td>58.3</td>\n",
       "      <td>123.5</td>\n",
       "      <td>142.9</td>\n",
       "    </tr>\n",
       "    <tr>\n",
       "      <th>13</th>\n",
       "      <td>42.7</td>\n",
       "      <td>1349.6</td>\n",
       "      <td>57.9</td>\n",
       "      <td>129.9</td>\n",
       "      <td>143.6</td>\n",
       "    </tr>\n",
       "    <tr>\n",
       "      <th>14</th>\n",
       "      <td>44.1</td>\n",
       "      <td>1449.4</td>\n",
       "      <td>56.5</td>\n",
       "      <td>117.6</td>\n",
       "      <td>139.2</td>\n",
       "    </tr>\n",
       "    <tr>\n",
       "      <th>15</th>\n",
       "      <td>46.7</td>\n",
       "      <td>1575.5</td>\n",
       "      <td>63.7</td>\n",
       "      <td>130.9</td>\n",
       "      <td>165.5</td>\n",
       "    </tr>\n",
       "    <tr>\n",
       "      <th>16</th>\n",
       "      <td>50.6</td>\n",
       "      <td>1759.1</td>\n",
       "      <td>61.6</td>\n",
       "      <td>129.8</td>\n",
       "      <td>203.3</td>\n",
       "    </tr>\n",
       "    <tr>\n",
       "      <th>17</th>\n",
       "      <td>50.1</td>\n",
       "      <td>1994.2</td>\n",
       "      <td>58.9</td>\n",
       "      <td>128.0</td>\n",
       "      <td>219.6</td>\n",
       "    </tr>\n",
       "    <tr>\n",
       "      <th>18</th>\n",
       "      <td>51.7</td>\n",
       "      <td>2258.1</td>\n",
       "      <td>66.4</td>\n",
       "      <td>141.0</td>\n",
       "      <td>221.6</td>\n",
       "    </tr>\n",
       "    <tr>\n",
       "      <th>19</th>\n",
       "      <td>52.9</td>\n",
       "      <td>2478.7</td>\n",
       "      <td>70.4</td>\n",
       "      <td>168.2</td>\n",
       "      <td>232.6</td>\n",
       "    </tr>\n",
       "  </tbody>\n",
       "</table>\n",
       "</div>"
      ],
      "text/plain": [
       "       Y      X1    X2     X3     X4\n",
       "t                                   \n",
       "1   31.2   492.9  37.3   54.7   77.4\n",
       "2   33.3   528.6  38.1   63.7   80.2\n",
       "3   35.6   560.3  39.3   69.8   80.4\n",
       "4   36.4   624.6  37.8   65.9   83.9\n",
       "5   36.7   666.4  38.4   64.5   85.5\n",
       "6   38.4   717.8  40.1   70.0   93.7\n",
       "7   40.4   768.2  38.6   73.2  106.1\n",
       "8   40.3   843.3  39.8   67.8  104.8\n",
       "9   41.8   911.6  39.7   79.1  114.0\n",
       "10  40.4   931.1  52.1   95.4  124.1\n",
       "11  40.7  1021.5  48.9   94.2  127.6\n",
       "12  40.1  1165.9  58.3  123.5  142.9\n",
       "13  42.7  1349.6  57.9  129.9  143.6\n",
       "14  44.1  1449.4  56.5  117.6  139.2\n",
       "15  46.7  1575.5  63.7  130.9  165.5\n",
       "16  50.6  1759.1  61.6  129.8  203.3\n",
       "17  50.1  1994.2  58.9  128.0  219.6\n",
       "18  51.7  2258.1  66.4  141.0  221.6\n",
       "19  52.9  2478.7  70.4  168.2  232.6"
      ]
     },
     "execution_count": 6,
     "metadata": {},
     "output_type": "execute_result"
    }
   ],
   "source": [
    "data"
   ]
  },
  {
   "cell_type": "markdown",
   "metadata": {},
   "source": [
    "### Пункт 1."
   ]
  },
  {
   "cell_type": "code",
   "execution_count": 7,
   "metadata": {},
   "outputs": [],
   "source": [
    "data_log = np.log(data)"
   ]
  },
  {
   "attachments": {
    "image.png": {
     "image/png": "[encoded data removed]"
    }
   },
   "cell_type": "markdown",
   "metadata": {},
   "source": [
    "Уравнения регрессии имеют следующий вид. Логарифмирую данные, приходим к тому, что вместо степенной регресии, можем использовать линейную (как название уравнение регресии, а не как вид предсказанных данных).\n",
    "\n",
    "![image.png](attachment:image.png)"
   ]
  },
  {
   "cell_type": "code",
   "execution_count": 8,
   "metadata": {},
   "outputs": [
    {
     "name": "stdout",
     "output_type": "stream",
     "text": [
      "Model #1\n",
      "b0=1.5777, b2=0.5527\n"
     ]
    },
    {
     "data": {
      "image/png": "[encoded data removed]",
      "text/plain": [
       "<Figure size 432x288 with 1 Axes>"
      ]
     },
     "metadata": {
      "needs_background": "light"
     },
     "output_type": "display_data"
    },
    {
     "name": "stdout",
     "output_type": "stream",
     "text": [
      "R2 score = 0.7554\n",
      "MSE score = 8.9826\n",
      "-------------------------\n",
      "\n",
      "Model #2\n",
      "b0=1.7460, b1=0.2849\n"
     ]
    },
    {
     "data": {
      "image/png": "[encoded data removed]",
      "text/plain": [
       "<Figure size 432x288 with 1 Axes>"
      ]
     },
     "metadata": {
      "needs_background": "light"
     },
     "output_type": "display_data"
    },
    {
     "name": "stdout",
     "output_type": "stream",
     "text": [
      "R2 score = 0.9443\n",
      "MSE score = 2.0449\n",
      "-------------------------\n",
      "\n",
      "Model #3\n",
      "b0=2.0185, b1=0.4161, b2=-0.3048\n"
     ]
    },
    {
     "data": {
      "image/png": "[encoded data removed]",
      "text/plain": [
       "<Figure size 432x288 with 1 Axes>"
      ]
     },
     "metadata": {
      "needs_background": "light"
     },
     "output_type": "display_data"
    },
    {
     "name": "stdout",
     "output_type": "stream",
     "text": [
      "R2 score = 0.9653\n",
      "MSE score = 1.2756\n",
      "-------------------------\n",
      "\n",
      "Model #4\n",
      "b0=2.3152, b2=-0.4875, b3=0.2374, b4=0.4601\n"
     ]
    },
    {
     "data": {
      "image/png": "[encoded data removed]",
      "text/plain": [
       "<Figure size 432x288 with 1 Axes>"
      ]
     },
     "metadata": {
      "needs_background": "light"
     },
     "output_type": "display_data"
    },
    {
     "name": "stdout",
     "output_type": "stream",
     "text": [
      "R2 score = 0.9491\n",
      "MSE score = 1.8687\n"
     ]
    }
   ],
   "source": [
    "#1 функция спроса\n",
    "print('Model #1')\n",
    "lin_1 = LinearRegression()\n",
    "lin_1.fit(data_log.X2.to_numpy().reshape(-1,1), data_log.Y.to_numpy())\n",
    "print(\"b0={:0.4f}, b2={:0.4f}\".format(lin_1.intercept_, *lin_1.coef_))\n",
    "preds_1 = np.exp(lin_1.intercept_)*data.X2**lin_1.coef_\n",
    "true_pred_plot(data.Y, preds_1)\n",
    "print(\"R2 score = {:0.4f}\".format(r2(data.Y, preds_1)))\n",
    "print(\"MSE score = {:0.4f}\".format(mse(data.Y, preds_1)))\n",
    "print('-'*25, end='\\n\\n')\n",
    "\n",
    "#2 функция потребления\n",
    "print('Model #2')\n",
    "lin_2 = LinearRegression()\n",
    "lin_2.fit(data_log.X1.to_numpy().reshape(-1,1), data_log.Y.to_numpy())\n",
    "print(\"b0={:0.4f}, b1={:0.4f}\".format(lin_2.intercept_, *lin_2.coef_))\n",
    "preds_2 = np.exp(lin_2.intercept_)*data.X1**lin_2.coef_\n",
    "true_pred_plot(data.Y, preds_2)\n",
    "print(\"R2 score = {:0.4f}\".format(r2(data.Y, preds_2)))\n",
    "print(\"MSE score = {:0.4f}\".format(mse(data.Y, preds_2)))\n",
    "print('-'*25, end='\\n\\n')\n",
    "\n",
    "#3 функция спроса-потребления\n",
    "print('Model #3')\n",
    "lin_3 = LinearRegression()\n",
    "lin_3.fit(data_log[['X1','X2']].to_numpy(), data_log.Y.to_numpy())\n",
    "print(\"b0={:0.4f}, b1={:0.4f}, b2={:0.4f}\".format(lin_3.intercept_, *lin_3.coef_))\n",
    "preds_3 = np.exp(lin_3.intercept_)*data.X1**lin_3.coef_[0]*data.X2**lin_3.coef_[1]\n",
    "true_pred_plot(data.Y, preds_3)\n",
    "print(\"R2 score = {:0.4f}\".format(r2(data.Y, preds_3)))\n",
    "print(\"MSE score = {:0.4f}\".format(mse(data.Y, preds_3)))\n",
    "print('-'*25, end='\\n\\n')\n",
    "\n",
    "#4 функция спроса с учетом цены ан товары-заменители\n",
    "print('Model #4')\n",
    "lin_4 = LinearRegression()\n",
    "lin_4.fit(data_log[['X2', 'X3','X4']].to_numpy(), data_log.Y.to_numpy())\n",
    "print(\"b0={:0.4f}, b2={:0.4f}, b3={:0.4f}, b4={:0.4f}\".format(lin_4.intercept_, *lin_4.coef_))\n",
    "preds_4 = np.exp(lin_4.intercept_)*data.X2**lin_4.coef_[0]*data.X3**lin_4.coef_[1]*data.X4**lin_4.coef_[2]\n",
    "true_pred_plot(data.Y, preds_4)\n",
    "print(\"R2 score = {:0.4f}\".format(r2(data.Y, preds_4)))\n",
    "print(\"MSE score = {:0.4f}\".format(mse(data.Y, preds_4)))"
   ]
  },
  {
   "cell_type": "markdown",
   "metadata": {},
   "source": [
    "По графикам, кажется, что лучше всех справляется модель ***спроса-потребления***, это подтверждают и метрики. Интуитивно кажется что доход и стоимость фунта куриного мяса больше всего влияют на его потребление. Также стоит отметить что стоимость алтернатив также влияет на потребление куриного мясо, но при этом в меньшей степени чем доход. "
   ]
  },
  {
   "cell_type": "markdown",
   "metadata": {},
   "source": [
    "### Пункт 2."
   ]
  },
  {
   "cell_type": "code",
   "execution_count": 9,
   "metadata": {},
   "outputs": [],
   "source": [
    "from scipy.stats import shapiro"
   ]
  },
  {
   "cell_type": "markdown",
   "metadata": {},
   "source": [
    "Если результат теста Шапиро-Уилка меньше 1, то гипотеза о нормальности исходного распределения отклоняется."
   ]
  },
  {
   "cell_type": "code",
   "execution_count": 10,
   "metadata": {},
   "outputs": [
    {
     "name": "stdout",
     "output_type": "stream",
     "text": [
      "Признак X1 не распределен нормально\n",
      "Признак X2 не распределен нормально\n",
      "Признак X3 не распределен нормально\n",
      "Признак X4 не распределен нормально\n"
     ]
    }
   ],
   "source": [
    "for column in data.columns[1:]:\n",
    "    test = shapiro(data[column])\n",
    "    if test[0] < 1:\n",
    "        print('Признак {} не распределен нормально'.format(column))"
   ]
  },
  {
   "cell_type": "markdown",
   "metadata": {},
   "source": [
    "### Пункт 3."
   ]
  },
  {
   "cell_type": "code",
   "execution_count": 11,
   "metadata": {},
   "outputs": [
    {
     "data": {
      "text/html": [
       "<div>\n",
       "<style scoped>\n",
       "    .dataframe tbody tr th:only-of-type {\n",
       "        vertical-align: middle;\n",
       "    }\n",
       "\n",
       "    .dataframe tbody tr th {\n",
       "        vertical-align: top;\n",
       "    }\n",
       "\n",
       "    .dataframe thead th {\n",
       "        text-align: right;\n",
       "    }\n",
       "</style>\n",
       "<table border=\"1\" class=\"dataframe\">\n",
       "  <thead>\n",
       "    <tr style=\"text-align: right;\">\n",
       "      <th></th>\n",
       "      <th>X1</th>\n",
       "      <th>X2</th>\n",
       "      <th>X3</th>\n",
       "      <th>X4</th>\n",
       "    </tr>\n",
       "    <tr>\n",
       "      <th>t</th>\n",
       "      <th></th>\n",
       "      <th></th>\n",
       "      <th></th>\n",
       "      <th></th>\n",
       "    </tr>\n",
       "  </thead>\n",
       "  <tbody>\n",
       "    <tr>\n",
       "      <th>1</th>\n",
       "      <td>2.795503</td>\n",
       "      <td>1.192043</td>\n",
       "      <td>2.523566</td>\n",
       "      <td>1.574717</td>\n",
       "    </tr>\n",
       "    <tr>\n",
       "      <th>2</th>\n",
       "      <td>2.806068</td>\n",
       "      <td>1.193245</td>\n",
       "      <td>2.578226</td>\n",
       "      <td>1.577477</td>\n",
       "    </tr>\n",
       "    <tr>\n",
       "      <th>3</th>\n",
       "      <td>2.814698</td>\n",
       "      <td>1.194966</td>\n",
       "      <td>2.610052</td>\n",
       "      <td>1.577668</td>\n",
       "    </tr>\n",
       "    <tr>\n",
       "      <th>4</th>\n",
       "      <td>2.830396</td>\n",
       "      <td>1.192800</td>\n",
       "      <td>2.590128</td>\n",
       "      <td>1.580898</td>\n",
       "    </tr>\n",
       "    <tr>\n",
       "      <th>5</th>\n",
       "      <td>2.839513</td>\n",
       "      <td>1.193684</td>\n",
       "      <td>2.582613</td>\n",
       "      <td>1.582304</td>\n",
       "    </tr>\n",
       "    <tr>\n",
       "      <th>6</th>\n",
       "      <td>2.849752</td>\n",
       "      <td>1.196062</td>\n",
       "      <td>2.611036</td>\n",
       "      <td>1.588905</td>\n",
       "    </tr>\n",
       "    <tr>\n",
       "      <th>7</th>\n",
       "      <td>2.858904</td>\n",
       "      <td>1.193974</td>\n",
       "      <td>2.626317</td>\n",
       "      <td>1.597316</td>\n",
       "    </tr>\n",
       "    <tr>\n",
       "      <th>8</th>\n",
       "      <td>2.871180</td>\n",
       "      <td>1.195655</td>\n",
       "      <td>2.600014</td>\n",
       "      <td>1.596509</td>\n",
       "    </tr>\n",
       "    <tr>\n",
       "      <th>9</th>\n",
       "      <td>2.881167</td>\n",
       "      <td>1.195519</td>\n",
       "      <td>2.652413</td>\n",
       "      <td>1.601905</td>\n",
       "    </tr>\n",
       "    <tr>\n",
       "      <th>10</th>\n",
       "      <td>2.883841</td>\n",
       "      <td>1.208818</td>\n",
       "      <td>2.713429</td>\n",
       "      <td>1.607086</td>\n",
       "    </tr>\n",
       "    <tr>\n",
       "      <th>11</th>\n",
       "      <td>2.895347</td>\n",
       "      <td>1.205967</td>\n",
       "      <td>2.709396</td>\n",
       "      <td>1.608728</td>\n",
       "    </tr>\n",
       "    <tr>\n",
       "      <th>12</th>\n",
       "      <td>2.911216</td>\n",
       "      <td>1.213536</td>\n",
       "      <td>2.792929</td>\n",
       "      <td>1.615145</td>\n",
       "    </tr>\n",
       "    <tr>\n",
       "      <th>13</th>\n",
       "      <td>2.928051</td>\n",
       "      <td>1.213259</td>\n",
       "      <td>2.807893</td>\n",
       "      <td>1.615413</td>\n",
       "    </tr>\n",
       "    <tr>\n",
       "      <th>14</th>\n",
       "      <td>2.935992</td>\n",
       "      <td>1.212262</td>\n",
       "      <td>2.778248</td>\n",
       "      <td>1.613696</td>\n",
       "    </tr>\n",
       "    <tr>\n",
       "      <th>15</th>\n",
       "      <td>2.945064</td>\n",
       "      <td>1.216968</td>\n",
       "      <td>2.810148</td>\n",
       "      <td>1.622857</td>\n",
       "    </tr>\n",
       "    <tr>\n",
       "      <th>16</th>\n",
       "      <td>2.956704</td>\n",
       "      <td>1.215698</td>\n",
       "      <td>2.807666</td>\n",
       "      <td>1.632605</td>\n",
       "    </tr>\n",
       "    <tr>\n",
       "      <th>17</th>\n",
       "      <td>2.969485</td>\n",
       "      <td>1.213945</td>\n",
       "      <td>2.803549</td>\n",
       "      <td>1.635968</td>\n",
       "    </tr>\n",
       "    <tr>\n",
       "      <th>18</th>\n",
       "      <td>2.981678</td>\n",
       "      <td>1.218496</td>\n",
       "      <td>2.831777</td>\n",
       "      <td>1.636353</td>\n",
       "    </tr>\n",
       "    <tr>\n",
       "      <th>19</th>\n",
       "      <td>2.990526</td>\n",
       "      <td>1.220565</td>\n",
       "      <td>2.881521</td>\n",
       "      <td>1.638379</td>\n",
       "    </tr>\n",
       "  </tbody>\n",
       "</table>\n",
       "</div>"
      ],
      "text/plain": [
       "          X1        X2        X3        X4\n",
       "t                                         \n",
       "1   2.795503  1.192043  2.523566  1.574717\n",
       "2   2.806068  1.193245  2.578226  1.577477\n",
       "3   2.814698  1.194966  2.610052  1.577668\n",
       "4   2.830396  1.192800  2.590128  1.580898\n",
       "5   2.839513  1.193684  2.582613  1.582304\n",
       "6   2.849752  1.196062  2.611036  1.588905\n",
       "7   2.858904  1.193974  2.626317  1.597316\n",
       "8   2.871180  1.195655  2.600014  1.596509\n",
       "9   2.881167  1.195519  2.652413  1.601905\n",
       "10  2.883841  1.208818  2.713429  1.607086\n",
       "11  2.895347  1.205967  2.709396  1.608728\n",
       "12  2.911216  1.213536  2.792929  1.615145\n",
       "13  2.928051  1.213259  2.807893  1.615413\n",
       "14  2.935992  1.212262  2.778248  1.613696\n",
       "15  2.945064  1.216968  2.810148  1.622857\n",
       "16  2.956704  1.215698  2.807666  1.632605\n",
       "17  2.969485  1.213945  2.803549  1.635968\n",
       "18  2.981678  1.218496  2.831777  1.636353\n",
       "19  2.990526  1.220565  2.881521  1.638379"
      ]
     },
     "execution_count": 11,
     "metadata": {},
     "output_type": "execute_result"
    }
   ],
   "source": [
    "from scipy.stats import boxcox\n",
    "corrected_data = data.copy()\n",
    "for column in data.columns[1:]:\n",
    "    corrected_data[column] = np.array(boxcox(data[column])[0])\n",
    "corrected_data = pd.DataFrame(corrected_data, columns = data.columns[1:])\n",
    "corrected_data"
   ]
  },
  {
   "cell_type": "markdown",
   "metadata": {},
   "source": [
    "### Пункт 4."
   ]
  },
  {
   "cell_type": "code",
   "execution_count": 12,
   "metadata": {},
   "outputs": [
    {
     "data": {
      "text/plain": [
       "MannwhitneyuResult(statistic=102.0, pvalue=0.011387432686168828)"
      ]
     },
     "execution_count": 12,
     "metadata": {},
     "output_type": "execute_result"
    }
   ],
   "source": [
    "from scipy.stats import mannwhitneyu\n",
    "\n",
    "mannwhitneyu(data.X3, data.X4)"
   ]
  },
  {
   "cell_type": "markdown",
   "metadata": {},
   "source": [
    "Выберем уровень значимости 0.05. Так как p-value теста меньше, то отклоняем нулевую гипотезу о статистически *схожих* распределениях признака. Тоже самое нам позволяет сделать и статистика равная 102, которая меньше соответствующего табличного значения. Это показывает что распределение признаков **статистически существенно** различается."
   ]
  },
  {
   "cell_type": "markdown",
   "metadata": {},
   "source": [
    "### Пункт 5."
   ]
  },
  {
   "cell_type": "code",
   "execution_count": 13,
   "metadata": {},
   "outputs": [
    {
     "data": {
      "text/plain": [
       "FlignerResult(statistic=16.797459660607196, pvalue=4.158894013328987e-05)"
      ]
     },
     "execution_count": 13,
     "metadata": {},
     "output_type": "execute_result"
    }
   ],
   "source": [
    "from scipy.stats import fligner\n",
    "from scipy.stats import ttest_ind\n",
    "fligner(data.X2, data.X3)"
   ]
  },
  {
   "cell_type": "markdown",
   "metadata": {},
   "source": [
    "Выберем уровень значимости 0.05. Так как p-value теста меньше, то мы отклоняем нулевую гипотезу о равенстве дисперсий этих распределений. "
   ]
  },
  {
   "cell_type": "code",
   "execution_count": 14,
   "metadata": {},
   "outputs": [
    {
     "data": {
      "text/plain": [
       "Ttest_indResult(statistic=-5.937606839472742, pvalue=8.419977507062957e-07)"
      ]
     },
     "execution_count": 14,
     "metadata": {},
     "output_type": "execute_result"
    }
   ],
   "source": [
    "ttest_ind(data.X2, data.X3)"
   ]
  },
  {
   "cell_type": "markdown",
   "metadata": {},
   "source": [
    "Критерий стьюдента говорит нам о неравенстве математических ожиданий двух случайных величин, это говорит нам о том что признаки стоимости курицы и свинины статистически различаются."
   ]
  },
  {
   "cell_type": "markdown",
   "metadata": {},
   "source": [
    "## Задание 2."
   ]
  },
  {
   "cell_type": "code",
   "execution_count": 48,
   "metadata": {},
   "outputs": [],
   "source": [
    "from sklearn.preprocessing import PolynomialFeatures\n",
    "from sklearn import linear_model\n",
    "from sklearn.model_selection import train_test_split\n",
    "\n",
    "data = pd.read_excel('задание2.xlsx')"
   ]
  },
  {
   "cell_type": "code",
   "execution_count": 49,
   "metadata": {},
   "outputs": [],
   "source": [
    "def fit_predict_score(degrees): \n",
    "    poly = PolynomialFeatures(degree=degrees)\n",
    "    poly_variables = poly.fit_transform(data[['staff', 'adverts', 'projects']])\n",
    "\n",
    "    poly_var_train, poly_var_test, res_train, res_test = train_test_split(poly_variables, data.profitability, test_size = 0.3, random_state = 4)\n",
    "\n",
    "    regression = linear_model.LinearRegression()\n",
    "\n",
    "    model = regression.fit(poly_var_train, res_train)\n",
    "    score_test = model.score(poly_var_test, res_test)\n",
    "    score_train = model.score(poly_var_train, res_train)\n",
    "    print('Train score = {:0.4f}'.format(score_train))\n",
    "    print('Test score = {:0.4f}'.format(score_test))"
   ]
  },
  {
   "cell_type": "code",
   "execution_count": 50,
   "metadata": {},
   "outputs": [
    {
     "name": "stdout",
     "output_type": "stream",
     "text": [
      "-------------------------\n",
      "Number of degrees 1\n",
      "Train score = 0.8146\n",
      "Test score = 0.3979\n",
      "-------------------------\n",
      "Number of degrees 2\n",
      "Train score = 0.9434\n",
      "Test score = 0.6580\n",
      "-------------------------\n",
      "Number of degrees 3\n",
      "Train score = 0.9760\n",
      "Test score = 0.6991\n",
      "-------------------------\n",
      "Number of degrees 4\n",
      "Train score = 1.0000\n",
      "Test score = -4283.7269\n",
      "-------------------------\n"
     ]
    }
   ],
   "source": [
    "print('-'*25)\n",
    "for i in range(1, 5):\n",
    "    print('Number of degrees {}'.format(i))\n",
    "    fit_predict_score(i)\n",
    "    print('-'*25)"
   ]
  },
  {
   "cell_type": "markdown",
   "metadata": {},
   "source": [
    "Согласно результатам на тестовой выборке степень полинома, лучше всего объясняющая данные (т.е. принимающая наибольшее значение на тестовой выборке) равна 3, что соответсвтует интуитивному предположению о том, что для трех признаков, полином 3 степени будет лучше всего описывать зависимую переменную."
   ]
  },
  {
   "cell_type": "markdown",
   "metadata": {},
   "source": [
    "## Задание 3."
   ]
  },
  {
   "cell_type": "code",
   "execution_count": 17,
   "metadata": {},
   "outputs": [],
   "source": [
    "from sklearn.decomposition import PCA"
   ]
  },
  {
   "cell_type": "code",
   "execution_count": 55,
   "metadata": {
    "scrolled": true
   },
   "outputs": [],
   "source": [
    "data = pd.read_excel('задание3.xlsx', header=2, index_col='id')"
   ]
  },
  {
   "cell_type": "code",
   "execution_count": 57,
   "metadata": {},
   "outputs": [],
   "source": [
    "pca = PCA(n_components=14)\n",
    "pca.fit(data)\n",
    "perc = 0\n",
    "for i in range(14):\n",
    "    perc += pca.explained_variance_ratio_[i]\n",
    "    if perc >= 0.75:\n",
    "        mem = i+1\n",
    "        break"
   ]
  },
  {
   "cell_type": "code",
   "execution_count": 58,
   "metadata": {},
   "outputs": [
    {
     "name": "stdout",
     "output_type": "stream",
     "text": [
      "Количество главнных компомент позволяющих сохранить больше 75% информации = 2\n"
     ]
    }
   ],
   "source": [
    "print('Количество главнных компомент позволяющих сохранить больше 75% информации = {}'.format(mem))"
   ]
  },
  {
   "cell_type": "markdown",
   "metadata": {},
   "source": [
    "Теперь покажем как при полученных компонент и изменненых данных можно вернуться к первоначальной выборке. Сначала получим новые данные, а после при помощи обратного преобразования получим первичные данные."
   ]
  },
  {
   "cell_type": "code",
   "execution_count": 63,
   "metadata": {},
   "outputs": [
    {
     "data": {
      "text/html": [
       "<div>\n",
       "<style scoped>\n",
       "    .dataframe tbody tr th:only-of-type {\n",
       "        vertical-align: middle;\n",
       "    }\n",
       "\n",
       "    .dataframe tbody tr th {\n",
       "        vertical-align: top;\n",
       "    }\n",
       "\n",
       "    .dataframe thead th {\n",
       "        text-align: right;\n",
       "    }\n",
       "</style>\n",
       "<table border=\"1\" class=\"dataframe\">\n",
       "  <thead>\n",
       "    <tr style=\"text-align: right;\">\n",
       "      <th></th>\n",
       "      <th>x1</th>\n",
       "      <th>x2</th>\n",
       "      <th>x3</th>\n",
       "      <th>x4</th>\n",
       "      <th>x5</th>\n",
       "      <th>x6</th>\n",
       "      <th>x7</th>\n",
       "      <th>x8</th>\n",
       "      <th>x9</th>\n",
       "      <th>x10</th>\n",
       "      <th>x11</th>\n",
       "      <th>x12</th>\n",
       "      <th>x13</th>\n",
       "      <th>x14</th>\n",
       "    </tr>\n",
       "    <tr>\n",
       "      <th>id</th>\n",
       "      <th></th>\n",
       "      <th></th>\n",
       "      <th></th>\n",
       "      <th></th>\n",
       "      <th></th>\n",
       "      <th></th>\n",
       "      <th></th>\n",
       "      <th></th>\n",
       "      <th></th>\n",
       "      <th></th>\n",
       "      <th></th>\n",
       "      <th></th>\n",
       "      <th></th>\n",
       "      <th></th>\n",
       "    </tr>\n",
       "  </thead>\n",
       "  <tbody>\n",
       "    <tr>\n",
       "      <th>96</th>\n",
       "      <td>0</td>\n",
       "      <td>60.96</td>\n",
       "      <td>2.68</td>\n",
       "      <td>186.81</td>\n",
       "      <td>0.67</td>\n",
       "      <td>4.02</td>\n",
       "      <td>45.11</td>\n",
       "      <td>5.93</td>\n",
       "      <td>0.67</td>\n",
       "      <td>705.98</td>\n",
       "      <td>0</td>\n",
       "      <td>42.02</td>\n",
       "      <td>2.68</td>\n",
       "      <td>100.00</td>\n",
       "    </tr>\n",
       "    <tr>\n",
       "      <th>97</th>\n",
       "      <td>0</td>\n",
       "      <td>55.02</td>\n",
       "      <td>7.42</td>\n",
       "      <td>11.34</td>\n",
       "      <td>2.18</td>\n",
       "      <td>4.36</td>\n",
       "      <td>89.58</td>\n",
       "      <td>3.29</td>\n",
       "      <td>1.31</td>\n",
       "      <td>568.75</td>\n",
       "      <td>2</td>\n",
       "      <td>29.96</td>\n",
       "      <td>4.72</td>\n",
       "      <td>100.00</td>\n",
       "    </tr>\n",
       "    <tr>\n",
       "      <th>99</th>\n",
       "      <td>0</td>\n",
       "      <td>69.08</td>\n",
       "      <td>51.50</td>\n",
       "      <td>56.98</td>\n",
       "      <td>23.53</td>\n",
       "      <td>28.41</td>\n",
       "      <td>129.33</td>\n",
       "      <td>16.78</td>\n",
       "      <td>9.92</td>\n",
       "      <td>806.07</td>\n",
       "      <td>18</td>\n",
       "      <td>29.21</td>\n",
       "      <td>11.24</td>\n",
       "      <td>41.70</td>\n",
       "    </tr>\n",
       "    <tr>\n",
       "      <th>101</th>\n",
       "      <td>0</td>\n",
       "      <td>53.54</td>\n",
       "      <td>64.43</td>\n",
       "      <td>59.06</td>\n",
       "      <td>1.34</td>\n",
       "      <td>2.68</td>\n",
       "      <td>86.71</td>\n",
       "      <td>9.09</td>\n",
       "      <td>2.68</td>\n",
       "      <td>675.82</td>\n",
       "      <td>0</td>\n",
       "      <td>21.33</td>\n",
       "      <td>8.51</td>\n",
       "      <td>32.17</td>\n",
       "    </tr>\n",
       "    <tr>\n",
       "      <th>103</th>\n",
       "      <td>0</td>\n",
       "      <td>61.61</td>\n",
       "      <td>56.86</td>\n",
       "      <td>96.73</td>\n",
       "      <td>19.57</td>\n",
       "      <td>20.31</td>\n",
       "      <td>88.33</td>\n",
       "      <td>13.87</td>\n",
       "      <td>1.85</td>\n",
       "      <td>705.08</td>\n",
       "      <td>6</td>\n",
       "      <td>18.79</td>\n",
       "      <td>3.14</td>\n",
       "      <td>74.96</td>\n",
       "    </tr>\n",
       "    <tr>\n",
       "      <th>...</th>\n",
       "      <td>...</td>\n",
       "      <td>...</td>\n",
       "      <td>...</td>\n",
       "      <td>...</td>\n",
       "      <td>...</td>\n",
       "      <td>...</td>\n",
       "      <td>...</td>\n",
       "      <td>...</td>\n",
       "      <td>...</td>\n",
       "      <td>...</td>\n",
       "      <td>...</td>\n",
       "      <td>...</td>\n",
       "      <td>...</td>\n",
       "      <td>...</td>\n",
       "    </tr>\n",
       "    <tr>\n",
       "      <th>1804</th>\n",
       "      <td>0</td>\n",
       "      <td>78.22</td>\n",
       "      <td>128.12</td>\n",
       "      <td>143.61</td>\n",
       "      <td>1.89</td>\n",
       "      <td>6.24</td>\n",
       "      <td>53.79</td>\n",
       "      <td>9.40</td>\n",
       "      <td>7.94</td>\n",
       "      <td>736.24</td>\n",
       "      <td>4</td>\n",
       "      <td>44.48</td>\n",
       "      <td>3.87</td>\n",
       "      <td>83.96</td>\n",
       "    </tr>\n",
       "    <tr>\n",
       "      <th>1806</th>\n",
       "      <td>0</td>\n",
       "      <td>73.79</td>\n",
       "      <td>1.91</td>\n",
       "      <td>3.83</td>\n",
       "      <td>6.70</td>\n",
       "      <td>4.78</td>\n",
       "      <td>13.76</td>\n",
       "      <td>6.20</td>\n",
       "      <td>0.96</td>\n",
       "      <td>1182.20</td>\n",
       "      <td>0</td>\n",
       "      <td>33.59</td>\n",
       "      <td>0.39</td>\n",
       "      <td>100.00</td>\n",
       "    </tr>\n",
       "    <tr>\n",
       "      <th>1807</th>\n",
       "      <td>0</td>\n",
       "      <td>72.16</td>\n",
       "      <td>26.44</td>\n",
       "      <td>19.04</td>\n",
       "      <td>4.23</td>\n",
       "      <td>10.58</td>\n",
       "      <td>0.00</td>\n",
       "      <td>0.00</td>\n",
       "      <td>4.23</td>\n",
       "      <td>279.09</td>\n",
       "      <td>2</td>\n",
       "      <td>11.15</td>\n",
       "      <td>6.06</td>\n",
       "      <td>0.00</td>\n",
       "    </tr>\n",
       "    <tr>\n",
       "      <th>1810</th>\n",
       "      <td>0</td>\n",
       "      <td>88.00</td>\n",
       "      <td>16.65</td>\n",
       "      <td>19.49</td>\n",
       "      <td>6.38</td>\n",
       "      <td>9.21</td>\n",
       "      <td>296.02</td>\n",
       "      <td>17.94</td>\n",
       "      <td>0.00</td>\n",
       "      <td>1988.55</td>\n",
       "      <td>13</td>\n",
       "      <td>44.89</td>\n",
       "      <td>37.32</td>\n",
       "      <td>17.90</td>\n",
       "    </tr>\n",
       "    <tr>\n",
       "      <th>1812</th>\n",
       "      <td>0</td>\n",
       "      <td>76.26</td>\n",
       "      <td>0.00</td>\n",
       "      <td>12.67</td>\n",
       "      <td>0.00</td>\n",
       "      <td>0.67</td>\n",
       "      <td>0.00</td>\n",
       "      <td>0.53</td>\n",
       "      <td>0.00</td>\n",
       "      <td>2073.15</td>\n",
       "      <td>0</td>\n",
       "      <td>53.16</td>\n",
       "      <td>5.81</td>\n",
       "      <td>0.00</td>\n",
       "    </tr>\n",
       "  </tbody>\n",
       "</table>\n",
       "<p>440 rows × 14 columns</p>\n",
       "</div>"
      ],
      "text/plain": [
       "      x1     x2      x3      x4     x5     x6      x7     x8    x9      x10  \\\n",
       "id                                                                            \n",
       "96     0  60.96    2.68  186.81   0.67   4.02   45.11   5.93  0.67   705.98   \n",
       "97     0  55.02    7.42   11.34   2.18   4.36   89.58   3.29  1.31   568.75   \n",
       "99     0  69.08   51.50   56.98  23.53  28.41  129.33  16.78  9.92   806.07   \n",
       "101    0  53.54   64.43   59.06   1.34   2.68   86.71   9.09  2.68   675.82   \n",
       "103    0  61.61   56.86   96.73  19.57  20.31   88.33  13.87  1.85   705.08   \n",
       "...   ..    ...     ...     ...    ...    ...     ...    ...   ...      ...   \n",
       "1804   0  78.22  128.12  143.61   1.89   6.24   53.79   9.40  7.94   736.24   \n",
       "1806   0  73.79    1.91    3.83   6.70   4.78   13.76   6.20  0.96  1182.20   \n",
       "1807   0  72.16   26.44   19.04   4.23  10.58    0.00   0.00  4.23   279.09   \n",
       "1810   0  88.00   16.65   19.49   6.38   9.21  296.02  17.94  0.00  1988.55   \n",
       "1812   0  76.26    0.00   12.67   0.00   0.67    0.00   0.53  0.00  2073.15   \n",
       "\n",
       "      x11    x12    x13     x14  \n",
       "id                               \n",
       "96      0  42.02   2.68  100.00  \n",
       "97      2  29.96   4.72  100.00  \n",
       "99     18  29.21  11.24   41.70  \n",
       "101     0  21.33   8.51   32.17  \n",
       "103     6  18.79   3.14   74.96  \n",
       "...   ...    ...    ...     ...  \n",
       "1804    4  44.48   3.87   83.96  \n",
       "1806    0  33.59   0.39  100.00  \n",
       "1807    2  11.15   6.06    0.00  \n",
       "1810   13  44.89  37.32   17.90  \n",
       "1812    0  53.16   5.81    0.00  \n",
       "\n",
       "[440 rows x 14 columns]"
      ]
     },
     "execution_count": 63,
     "metadata": {},
     "output_type": "execute_result"
    }
   ],
   "source": [
    "data"
   ]
  },
  {
   "cell_type": "code",
   "execution_count": 71,
   "metadata": {},
   "outputs": [
    {
     "data": {
      "text/html": [
       "<div>\n",
       "<style scoped>\n",
       "    .dataframe tbody tr th:only-of-type {\n",
       "        vertical-align: middle;\n",
       "    }\n",
       "\n",
       "    .dataframe tbody tr th {\n",
       "        vertical-align: top;\n",
       "    }\n",
       "\n",
       "    .dataframe thead th {\n",
       "        text-align: right;\n",
       "    }\n",
       "</style>\n",
       "<table border=\"1\" class=\"dataframe\">\n",
       "  <thead>\n",
       "    <tr style=\"text-align: right;\">\n",
       "      <th></th>\n",
       "      <th>0</th>\n",
       "      <th>1</th>\n",
       "      <th>2</th>\n",
       "      <th>3</th>\n",
       "      <th>4</th>\n",
       "      <th>5</th>\n",
       "      <th>6</th>\n",
       "      <th>7</th>\n",
       "      <th>8</th>\n",
       "      <th>9</th>\n",
       "      <th>10</th>\n",
       "      <th>11</th>\n",
       "      <th>12</th>\n",
       "      <th>13</th>\n",
       "    </tr>\n",
       "  </thead>\n",
       "  <tbody>\n",
       "    <tr>\n",
       "      <th>0</th>\n",
       "      <td>-1.387779e-16</td>\n",
       "      <td>60.96</td>\n",
       "      <td>2.680000e+00</td>\n",
       "      <td>186.81</td>\n",
       "      <td>6.700000e-01</td>\n",
       "      <td>4.02</td>\n",
       "      <td>4.511000e+01</td>\n",
       "      <td>5.930000e+00</td>\n",
       "      <td>6.700000e-01</td>\n",
       "      <td>705.98</td>\n",
       "      <td>3.552714e-14</td>\n",
       "      <td>42.02</td>\n",
       "      <td>2.68</td>\n",
       "      <td>1.000000e+02</td>\n",
       "    </tr>\n",
       "    <tr>\n",
       "      <th>1</th>\n",
       "      <td>-1.110223e-16</td>\n",
       "      <td>55.02</td>\n",
       "      <td>7.420000e+00</td>\n",
       "      <td>11.34</td>\n",
       "      <td>2.180000e+00</td>\n",
       "      <td>4.36</td>\n",
       "      <td>8.958000e+01</td>\n",
       "      <td>3.290000e+00</td>\n",
       "      <td>1.310000e+00</td>\n",
       "      <td>568.75</td>\n",
       "      <td>2.000000e+00</td>\n",
       "      <td>29.96</td>\n",
       "      <td>4.72</td>\n",
       "      <td>1.000000e+02</td>\n",
       "    </tr>\n",
       "    <tr>\n",
       "      <th>2</th>\n",
       "      <td>2.775558e-17</td>\n",
       "      <td>69.08</td>\n",
       "      <td>5.150000e+01</td>\n",
       "      <td>56.98</td>\n",
       "      <td>2.353000e+01</td>\n",
       "      <td>28.41</td>\n",
       "      <td>1.293300e+02</td>\n",
       "      <td>1.678000e+01</td>\n",
       "      <td>9.920000e+00</td>\n",
       "      <td>806.07</td>\n",
       "      <td>1.800000e+01</td>\n",
       "      <td>29.21</td>\n",
       "      <td>11.24</td>\n",
       "      <td>4.170000e+01</td>\n",
       "    </tr>\n",
       "    <tr>\n",
       "      <th>3</th>\n",
       "      <td>-1.387779e-16</td>\n",
       "      <td>53.54</td>\n",
       "      <td>6.443000e+01</td>\n",
       "      <td>59.06</td>\n",
       "      <td>1.340000e+00</td>\n",
       "      <td>2.68</td>\n",
       "      <td>8.671000e+01</td>\n",
       "      <td>9.090000e+00</td>\n",
       "      <td>2.680000e+00</td>\n",
       "      <td>675.82</td>\n",
       "      <td>8.526513e-14</td>\n",
       "      <td>21.33</td>\n",
       "      <td>8.51</td>\n",
       "      <td>3.217000e+01</td>\n",
       "    </tr>\n",
       "    <tr>\n",
       "      <th>4</th>\n",
       "      <td>-1.387779e-16</td>\n",
       "      <td>61.61</td>\n",
       "      <td>5.686000e+01</td>\n",
       "      <td>96.73</td>\n",
       "      <td>1.957000e+01</td>\n",
       "      <td>20.31</td>\n",
       "      <td>8.833000e+01</td>\n",
       "      <td>1.387000e+01</td>\n",
       "      <td>1.850000e+00</td>\n",
       "      <td>705.08</td>\n",
       "      <td>6.000000e+00</td>\n",
       "      <td>18.79</td>\n",
       "      <td>3.14</td>\n",
       "      <td>7.496000e+01</td>\n",
       "    </tr>\n",
       "    <tr>\n",
       "      <th>...</th>\n",
       "      <td>...</td>\n",
       "      <td>...</td>\n",
       "      <td>...</td>\n",
       "      <td>...</td>\n",
       "      <td>...</td>\n",
       "      <td>...</td>\n",
       "      <td>...</td>\n",
       "      <td>...</td>\n",
       "      <td>...</td>\n",
       "      <td>...</td>\n",
       "      <td>...</td>\n",
       "      <td>...</td>\n",
       "      <td>...</td>\n",
       "      <td>...</td>\n",
       "    </tr>\n",
       "    <tr>\n",
       "      <th>435</th>\n",
       "      <td>-1.804112e-16</td>\n",
       "      <td>78.22</td>\n",
       "      <td>1.281200e+02</td>\n",
       "      <td>143.61</td>\n",
       "      <td>1.890000e+00</td>\n",
       "      <td>6.24</td>\n",
       "      <td>5.379000e+01</td>\n",
       "      <td>9.400000e+00</td>\n",
       "      <td>7.940000e+00</td>\n",
       "      <td>736.24</td>\n",
       "      <td>4.000000e+00</td>\n",
       "      <td>44.48</td>\n",
       "      <td>3.87</td>\n",
       "      <td>8.396000e+01</td>\n",
       "    </tr>\n",
       "    <tr>\n",
       "      <th>436</th>\n",
       "      <td>-1.249001e-16</td>\n",
       "      <td>73.79</td>\n",
       "      <td>1.910000e+00</td>\n",
       "      <td>3.83</td>\n",
       "      <td>6.700000e+00</td>\n",
       "      <td>4.78</td>\n",
       "      <td>1.376000e+01</td>\n",
       "      <td>6.200000e+00</td>\n",
       "      <td>9.600000e-01</td>\n",
       "      <td>1182.20</td>\n",
       "      <td>5.684342e-14</td>\n",
       "      <td>33.59</td>\n",
       "      <td>0.39</td>\n",
       "      <td>1.000000e+02</td>\n",
       "    </tr>\n",
       "    <tr>\n",
       "      <th>437</th>\n",
       "      <td>-4.163336e-17</td>\n",
       "      <td>72.16</td>\n",
       "      <td>2.644000e+01</td>\n",
       "      <td>19.04</td>\n",
       "      <td>4.230000e+00</td>\n",
       "      <td>10.58</td>\n",
       "      <td>2.557954e-13</td>\n",
       "      <td>-2.131628e-14</td>\n",
       "      <td>4.230000e+00</td>\n",
       "      <td>279.09</td>\n",
       "      <td>2.000000e+00</td>\n",
       "      <td>11.15</td>\n",
       "      <td>6.06</td>\n",
       "      <td>-1.421085e-13</td>\n",
       "    </tr>\n",
       "    <tr>\n",
       "      <th>438</th>\n",
       "      <td>2.636780e-16</td>\n",
       "      <td>88.00</td>\n",
       "      <td>1.665000e+01</td>\n",
       "      <td>19.49</td>\n",
       "      <td>6.380000e+00</td>\n",
       "      <td>9.21</td>\n",
       "      <td>2.960200e+02</td>\n",
       "      <td>1.794000e+01</td>\n",
       "      <td>3.286260e-14</td>\n",
       "      <td>1988.55</td>\n",
       "      <td>1.300000e+01</td>\n",
       "      <td>44.89</td>\n",
       "      <td>37.32</td>\n",
       "      <td>1.790000e+01</td>\n",
       "    </tr>\n",
       "    <tr>\n",
       "      <th>439</th>\n",
       "      <td>2.498002e-16</td>\n",
       "      <td>76.26</td>\n",
       "      <td>3.410605e-13</td>\n",
       "      <td>12.67</td>\n",
       "      <td>1.776357e-14</td>\n",
       "      <td>0.67</td>\n",
       "      <td>5.684342e-14</td>\n",
       "      <td>5.300000e-01</td>\n",
       "      <td>2.664535e-14</td>\n",
       "      <td>2073.15</td>\n",
       "      <td>-9.237056e-14</td>\n",
       "      <td>53.16</td>\n",
       "      <td>5.81</td>\n",
       "      <td>-1.065814e-13</td>\n",
       "    </tr>\n",
       "  </tbody>\n",
       "</table>\n",
       "<p>440 rows × 14 columns</p>\n",
       "</div>"
      ],
      "text/plain": [
       "                0      1             2       3             4      5  \\\n",
       "0   -1.387779e-16  60.96  2.680000e+00  186.81  6.700000e-01   4.02   \n",
       "1   -1.110223e-16  55.02  7.420000e+00   11.34  2.180000e+00   4.36   \n",
       "2    2.775558e-17  69.08  5.150000e+01   56.98  2.353000e+01  28.41   \n",
       "3   -1.387779e-16  53.54  6.443000e+01   59.06  1.340000e+00   2.68   \n",
       "4   -1.387779e-16  61.61  5.686000e+01   96.73  1.957000e+01  20.31   \n",
       "..            ...    ...           ...     ...           ...    ...   \n",
       "435 -1.804112e-16  78.22  1.281200e+02  143.61  1.890000e+00   6.24   \n",
       "436 -1.249001e-16  73.79  1.910000e+00    3.83  6.700000e+00   4.78   \n",
       "437 -4.163336e-17  72.16  2.644000e+01   19.04  4.230000e+00  10.58   \n",
       "438  2.636780e-16  88.00  1.665000e+01   19.49  6.380000e+00   9.21   \n",
       "439  2.498002e-16  76.26  3.410605e-13   12.67  1.776357e-14   0.67   \n",
       "\n",
       "                6             7             8        9            10     11  \\\n",
       "0    4.511000e+01  5.930000e+00  6.700000e-01   705.98  3.552714e-14  42.02   \n",
       "1    8.958000e+01  3.290000e+00  1.310000e+00   568.75  2.000000e+00  29.96   \n",
       "2    1.293300e+02  1.678000e+01  9.920000e+00   806.07  1.800000e+01  29.21   \n",
       "3    8.671000e+01  9.090000e+00  2.680000e+00   675.82  8.526513e-14  21.33   \n",
       "4    8.833000e+01  1.387000e+01  1.850000e+00   705.08  6.000000e+00  18.79   \n",
       "..            ...           ...           ...      ...           ...    ...   \n",
       "435  5.379000e+01  9.400000e+00  7.940000e+00   736.24  4.000000e+00  44.48   \n",
       "436  1.376000e+01  6.200000e+00  9.600000e-01  1182.20  5.684342e-14  33.59   \n",
       "437  2.557954e-13 -2.131628e-14  4.230000e+00   279.09  2.000000e+00  11.15   \n",
       "438  2.960200e+02  1.794000e+01  3.286260e-14  1988.55  1.300000e+01  44.89   \n",
       "439  5.684342e-14  5.300000e-01  2.664535e-14  2073.15 -9.237056e-14  53.16   \n",
       "\n",
       "        12            13  \n",
       "0     2.68  1.000000e+02  \n",
       "1     4.72  1.000000e+02  \n",
       "2    11.24  4.170000e+01  \n",
       "3     8.51  3.217000e+01  \n",
       "4     3.14  7.496000e+01  \n",
       "..     ...           ...  \n",
       "435   3.87  8.396000e+01  \n",
       "436   0.39  1.000000e+02  \n",
       "437   6.06 -1.421085e-13  \n",
       "438  37.32  1.790000e+01  \n",
       "439   5.81 -1.065814e-13  \n",
       "\n",
       "[440 rows x 14 columns]"
      ]
     },
     "execution_count": 71,
     "metadata": {},
     "output_type": "execute_result"
    }
   ],
   "source": [
    "new_data = pca.transform(data)\n",
    "pd.DataFrame(pca.inverse_transform(new_data))"
   ]
  },
  {
   "cell_type": "code",
   "execution_count": 72,
   "metadata": {},
   "outputs": [
    {
     "data": {
      "text/plain": [
       "4.7883641496326845e-12"
      ]
     },
     "execution_count": 72,
     "metadata": {},
     "output_type": "execute_result"
    }
   ],
   "source": [
    "(pca.inverse_transform(new_data)-np.array(data)).sum()"
   ]
  },
  {
   "cell_type": "markdown",
   "metadata": {},
   "source": [
    "Как мы видим разница между первоначальными данными и теми, что мы получили после обратного преобразования, очень мала, причиной которой служит машинная неточность."
   ]
  },
  {
   "cell_type": "markdown",
   "metadata": {},
   "source": [
    "## Задание 4"
   ]
  },
  {
   "cell_type": "code",
   "execution_count": 439,
   "metadata": {},
   "outputs": [],
   "source": [
    "from sklearn.linear_model import LogisticRegression\n",
    "from sklearn.metrics import f1_score as f1, accuracy_score as accuracy\n",
    "from sklearn.metrics import precision_score as precision, recall_score as recall\n",
    "from sklearn.metrics import confusion_matrix, roc_auc_score\n",
    "from sklearn.metrics import roc_curve, auc\n",
    "from sklearn.model_selection import StratifiedKFold\n",
    "import seaborn as sns\n",
    "import matplotlib.pyplot as plt\n",
    "import warnings\n",
    "warnings.filterwarnings(\"ignore\")"
   ]
  },
  {
   "cell_type": "code",
   "execution_count": 461,
   "metadata": {},
   "outputs": [],
   "source": [
    "def all_metrics(trues, preds, probs):\n",
    "    print(\"Accuracy = {:.4f}\".format(accuracy(trues, preds)))\n",
    "    print(\"Precision = {:.4f} Recall = {:.4f}\".format(precision(trues, preds), recall(trues, preds)))\n",
    "    print(\"F-Measure = {:.4f}\".format(f1(trues, preds)))\n",
    "    \n",
    "    plt.title('Confusion Matrix')\n",
    "    sns.heatmap(confusion_matrix(trues, preds).astype(int), annot=True)\n",
    "    plt.show()\n",
    "    \n",
    "    probs = probs[:,1]\n",
    "    fpr, tpr, threshold = roc_curve(y_test, probs)\n",
    "    roc_auc = auc(fpr, tpr)\n",
    "    plt.title('Receiver Operating Characteristic')\n",
    "    plt.plot(fpr, tpr, 'b', label = 'AUC = %0.2f' % roc_auc)\n",
    "    plt.legend(loc = 'lower right')\n",
    "    plt.plot([0, 1], [0, 1],'r--')\n",
    "    plt.xlim([0, 1])\n",
    "    plt.ylim([0, 1])\n",
    "    plt.ylabel('True Positive Rate')\n",
    "    plt.xlabel('False Positive Rate')\n",
    "    plt.show()"
   ]
  },
  {
   "cell_type": "markdown",
   "metadata": {},
   "source": [
    "Так как данных немного, для отбора признаков мы можем позволить себе проверить качество логистической регресии на каждой объясняющей переменной, и по полученной информации выбрать релевантные. Не зная качество собранных данных будем пользоваться кросс-валидацией, по принципу stratified, чтобы сохранить распределние классов согласно первоначальным данным. После возьмем признаки которые хоть как-то изменяют f-меру, чтобы откинуть нерелевантные."
   ]
  },
  {
   "cell_type": "code",
   "execution_count": 462,
   "metadata": {},
   "outputs": [],
   "source": [
    "data = pd.read_excel('задание4.xls')\n",
    "X_train, X_val, y_train, y_val = train_test_split(data[data.columns[1:]], data.target, shuffle=True)"
   ]
  },
  {
   "cell_type": "code",
   "execution_count": 463,
   "metadata": {},
   "outputs": [],
   "source": [
    "correct_features = []\n",
    "f_scores = []\n",
    "skf = StratifiedKFold(n_splits=5, shuffle=True)\n",
    "for fold, (tr_idx, val_idx) in enumerate(skf.split(data[data.columns[1:]], data.target)):\n",
    "    f_scores.append([])\n",
    "    X_train, y_train = data[data.columns[1:]].loc[tr_idx], data.target.loc[tr_idx]\n",
    "    X_val, y_val = data[data.columns[1:]].loc[val_idx], data.target.loc[val_idx]\n",
    "    for column in data.columns[1:]:\n",
    "        cls = LogisticRegression(penalty='none')\n",
    "        cls.fit(X_train[column].to_numpy().reshape(-1,1), y_train)\n",
    "        preds = cls.predict(X_val[column].to_numpy().reshape(-1,1))\n",
    "        f_score = f1(y_val, preds)\n",
    "        f_scores[fold].append(f_score)\n",
    "\n",
    "f_scores = np.array(f_scores).mean(axis=0)"
   ]
  },
  {
   "cell_type": "code",
   "execution_count": 464,
   "metadata": {
    "scrolled": true
   },
   "outputs": [
    {
     "name": "stdout",
     "output_type": "stream",
     "text": [
      "Подходящие признаки \"interest\" \"climate\" \"dist\"\n"
     ]
    }
   ],
   "source": [
    "good_features = list(data.columns[1:][np.where(f_scores>0)[0]])\n",
    "print('Подходящие признаки \"{}\" \"{}\" \"{}\"'.format(*good_features))"
   ]
  },
  {
   "cell_type": "code",
   "execution_count": 465,
   "metadata": {},
   "outputs": [],
   "source": [
    "new_data = data[good_features]\n",
    "y = data.target"
   ]
  },
  {
   "cell_type": "markdown",
   "metadata": {},
   "source": [
    "После того как преобразовали исходные данные можем строить классификационную модель. Определять качество будем на тестовой выборке при помощи метрик **accuracy**, **precision**, **recall**, **F1**, **ROC-AUC**, а также посмотрим на матрицу ошибок."
   ]
  },
  {
   "cell_type": "code",
   "execution_count": 470,
   "metadata": {},
   "outputs": [],
   "source": [
    "cls = LogisticRegression(penalty='none')\n",
    "X_train, X_test, y_train, y_test = train_test_split(new_data, y)\n",
    "cls.fit(X_train, y_train)\n",
    "preds = cls.predict(X_test)\n",
    "probs = cls.predict_proba(X_test)"
   ]
  },
  {
   "cell_type": "code",
   "execution_count": 471,
   "metadata": {},
   "outputs": [
    {
     "name": "stdout",
     "output_type": "stream",
     "text": [
      "Accuracy = 0.7480\n",
      "Precision = 0.6364 Recall = 0.3784\n",
      "F-Measure = 0.4746\n"
     ]
    },
    {
     "data": {
      "image/png": "[encoded data removed]",
      "text/plain": [
       "<Figure size 432x288 with 2 Axes>"
      ]
     },
     "metadata": {
      "needs_background": "light"
     },
     "output_type": "display_data"
    },
    {
     "data": {
      "image/png": "[encoded data removed]",
      "text/plain": [
       "<Figure size 432x288 with 1 Axes>"
      ]
     },
     "metadata": {
      "needs_background": "light"
     },
     "output_type": "display_data"
    }
   ],
   "source": [
    "all_metrics(y_test, preds, probs)"
   ]
  },
  {
   "cell_type": "markdown",
   "metadata": {},
   "source": [
    "Теперь мы можем проинтерпретировать модель. Из всех переменных представленных в первоначальных данных, кажется что выбранные (а именно **\"interest climate dist\"**) лучше всего могут объяснить собирается сотрудник уходить или нет, именно они были выбраны и нашей моделью. Также можно выделить переменные **\"age offhour salary\"**, выглядящие достаточно важно для принятия решения, но при этом не прошедшие отбор кросс-валидацией. Это можно объяснить: неподходящей моделью (логистическая регрессия работает с бинарными признаками (offhour, salary) хуже чем другие нелинейные модели); малым размером выборки; и тем что нам неизвестно как они были собраны."
   ]
  }
 ],
 "metadata": {
  "kernelspec": {
   "display_name": "Python 3",
   "language": "python",
   "name": "python3"
  },
  "language_info": {
   "codemirror_mode": {
    "name": "ipython",
    "version": 3
   },
   "file_extension": ".py",
   "mimetype": "text/x-python",
   "name": "python",
   "nbconvert_exporter": "python",
   "pygments_lexer": "ipython3",
   "version": "3.7.6"
  }
 },
 "nbformat": 4,
 "nbformat_minor": 4
}
